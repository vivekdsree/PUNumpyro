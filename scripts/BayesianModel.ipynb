{
 "cells": [
  {
   "cell_type": "code",
   "execution_count": 29,
   "metadata": {},
   "outputs": [
    {
     "name": "stdout",
     "output_type": "stream",
     "text": [
      "The autoreload extension is already loaded. To reload it, use:\n",
      "  %reload_ext autoreload\n"
     ]
    }
   ],
   "source": [
    "import numpy as np\n",
    "import matplotlib\n",
    "import matplotlib.pyplot as plt\n",
    "\n",
    "import jax\n",
    "from jax.experimental.ode import odeint\n",
    "import jax.numpy as jnp\n",
    "from jax.random import PRNGKey\n",
    "from jax import grad, jit, vmap\n",
    "\n",
    "import numpyro\n",
    "import numpyro.distributions as dist\n",
    "from numpyro.infer import MCMC, NUTS, Predictive\n",
    "from numpyro.infer import HMC, HMCECS, MCMC, NUTS, SA, SVI, Trace_ELBO, init_to_value\n",
    "from numpyro.infer.autoguide import AutoNormal\n",
    "\n",
    "from pu.pu_dynamics import *\n",
    "from pu.load_data import *\n",
    "\n",
    "from functools import partial\n",
    "import seaborn as sns\n",
    "\n",
    "%load_ext autoreload\n",
    "%autoreload 2"
   ]
  },
  {
   "cell_type": "code",
   "execution_count": 30,
   "metadata": {},
   "outputs": [],
   "source": [
    "#Let's load scaled versions of all the data that we need\n",
    "data_path = \"../data\" #Location where all data is stored\n",
    "\n",
    "rhokl = [1,2,3]\n",
    "macl = [1,2,3,4,5,6]\n",
    "neutl = [1,2,3,4,5,6]\n",
    "kcl = [1,2,3,4,5]\n",
    "tal = [1,2,3]\n",
    "tbl = [1,2,3,4,5,6]\n",
    "\n",
    "dat_mac = load_file(data_path, \"Macro\", macl, 30)\n",
    "dat_neut = load_file(data_path, \"Neutro\", neutl, 40)\n",
    "dat_kc = load_file(data_path, \"MCP\", kcl, 1)\n",
    "dat_rhok = load_file(data_path, \"Keratinocyte\", rhokl, 1)\n",
    "dat_rhok = np.array(dat_rhok)\n",
    "dat_rhok[:,0] = dat_rhok[:,0] -1\n",
    "dat_rhok = jnp.array(dat_rhok)\n",
    "dat_ta=load_file(data_path, \"Ta\", tal, 40)\n",
    "dat_tb = load_file(data_path, \"Tb\", tbl, 15)\n",
    "\n",
    "\n",
    "dat_mac = add_end_data(dat_mac, macl, 20, 1.0)\n",
    "dat_neut = add_end_data(dat_neut, neutl, 20, 1.0)\n",
    "dat_ta = add_end_data(dat_ta, tal, 20, 1.0)\n",
    "dat_tb = add_end_data(dat_tb, tbl, 20, 1.0)\n",
    "dat_rhok = add_end_data(dat_rhok, rhokl, 20, 1.0)\n",
    "dat_kc = add_end_data(dat_kc, kcl, 20, 0.0)\n",
    "\n",
    "\n",
    "timel = jnp.linspace(0,480,480)\n",
    "\n",
    "id_rhok = timel.searchsorted(dat_rhok[:,0]*24)\n",
    "id_rhon = timel.searchsorted(dat_neut[:,0]*24)\n",
    "id_rhom = timel.searchsorted(dat_mac[:,0]*24)\n",
    "id_ta   = timel.searchsorted(dat_ta[:,0]*24)\n",
    "\n",
    "ids = (id_rhok, id_rhon, id_rhom, id_ta)        #Tuple of all observed time indices\n",
    "dat = (dat_rhok[:,2], dat_neut[:,2], dat_mac[:,2], dat_ta[:,2])     #Tuple of all observed data points"
   ]
  },
  {
   "cell_type": "code",
   "execution_count": 42,
   "metadata": {},
   "outputs": [],
   "source": [
    "def model(id=ids, data1 =None, data2=None, data3=None, data4=None):\n",
    "    \"\"\"\n",
    "    :id tuple(jnp.ndarray)  : Observed time indices of keratinocytes, neutrophils, macrophages and TNFa\n",
    "    :data tuple(jnp.ndarray): Observed data points of keratinocytes, neutrophils, macrophages and TNFa\n",
    "    \"\"\"\n",
    "    # v0 = numpyro.deterministic(\"v0\",jnp.array([0.18,10.0,5.0,2.0,1.0,10.0,5.0,2.0,0.15,0.2,1.0,1.0]))\n",
    "    v0 = numpyro.sample(\n",
    "        \"v0\",\n",
    "        dist.Uniform(\n",
    "            low =jnp.array([0.1, 5.0,  2.0, 1.0, 0.99, 5.0,  4.0, 1.0, 0.149, 0.199, 0.99, 0.99]),\n",
    "            high=jnp.array([0.2, 15.0, 8.0, 8.0, 1.01, 15.0, 8.0, 4.0, 0.151, 0.201, 1.01, 1.01]),\n",
    "        ),\n",
    "    )\n",
    "\n",
    "    lkTa =numpyro.sample(\"lkTa\", dist.Uniform(low=0.4, high=0.6))\n",
    "    lkI1b =numpyro.deterministic(\"lkI1b\", 0.07)\n",
    "    lkR =numpyro.deterministic(\"lkR\", 0.07)\n",
    "    lkTb =numpyro.deterministic(\"lkTb\", 0.2)\n",
    "\n",
    "    lnKC =numpyro.deterministic(\"lnKC\", 2.0)\n",
    "    lnDa =numpyro.sample(\"lnDa\", dist.Uniform(low=1.8, high=2.1))\n",
    "\n",
    "    Tahf =numpyro.sample(\"Tahf\", dist.Uniform(low=8.0, high=16.0))\n",
    "    lm1Ta =numpyro.sample(\"lm1Ta\", dist.Uniform(low=.75, high=1.25))\n",
    "    I1bhfm1 =numpyro.sample(\"I1bhfm1\", dist.Uniform(low=10.0, high=12.0))\n",
    "    lm1I1b =numpyro.sample(\"lm1I1b\", dist.Uniform(low=0.8, high=1.6))\n",
    "    lmKcm1 =numpyro.deterministic(\"lmKcm1\", 1.0)\n",
    "    Tbhfm1 =numpyro.sample(\"Tbhfm1\", dist.Uniform(low=7.0, high=8.5))\n",
    "    lm1Tb =numpyro.deterministic(\"lm1Tb\", 0.1)\n",
    "    I1bhfm2 =numpyro.sample(\"I1bhfm2\", dist.Uniform(low=7.0, high=8.0))\n",
    "    lm2I1b =numpyro.sample(\"lm2I1b\", dist.Uniform(low=1.1, high=1.2))\n",
    "    Tbhfm2 =numpyro.deterministic(\"Tbhfm2\", 10.0)\n",
    "    lm2Tb =numpyro.deterministic(\"lm2Tb\", 0.2)\n",
    "    alpha_m1n =numpyro.deterministic(\"alpha_m1n\", 0.0001)\n",
    "    alpha_m1m2 =numpyro.deterministic(\"alpha_m1m2\", 0.0001)\n",
    "\n",
    "    # sig1 =numpyro.sample(\"sig1\", dist.HalfCauchy(scale=0.1))\n",
    "    # sig2 =numpyro.sample(\"sig2\", dist.HalfCauchy(scale=0.5))\n",
    "    # sig3 =numpyro.sample(\"sig3\", dist.HalfCauchy(scale=0.5))\n",
    "    # sig4 =numpyro.sample(\"sig4\", dist.HalfCauchy(scale=0.5))\n",
    "\n",
    "\n",
    "    sig1 =numpyro.param(\"sig1\", init_value=0.1)\n",
    "    sig2 =numpyro.param(\"sig2\", init_value=0.5)\n",
    "    sig3 =numpyro.param(\"sig3\", init_value=0.5)\n",
    "    sig4 =numpyro.param(\"sig4\", init_value=0.5)\n",
    "\n",
    "\n",
    "    par = jnp.array([lkTa, lkI1b,lkR, lkTb,lnKC, lnDa,Tahf, lm1Ta, I1bhfm1,lm1I1b,\n",
    "                        lmKcm1, Tbhfm1, lm1Tb,I1bhfm2,lm2I1b, Tbhfm2,lm2Tb,alpha_m1n,\n",
    "                        alpha_m1m2])\n",
    "    times = jnp.linspace(0,480,480)\n",
    "\n",
    "    ode_solution = acute_solver(par,times,v0)\n",
    "    #rhok_sol,rhon_sol,rhom_sol,ta_sol\n",
    "    sol = numpyro.deterministic(\"sol\",ode_solution)\n",
    "    \n",
    "    y_rhok = numpyro.sample('y_rhok', dist.Normal(ode_solution[0, ids[0]], sig1), obs=data1)\n",
    "    y_rhon = numpyro.sample('y_rhon', dist.Normal(ode_solution[1, ids[1]], sig2), obs=data2)\n",
    "    y_rhom = numpyro.sample('y_rhom', dist.Normal(ode_solution[2, ids[2]], sig3), obs=data3)\n",
    "    y_ta   = numpyro.sample('y_ta', dist.Normal(ode_solution[3, ids[3]], sig4), obs=data4)\n",
    "\n",
    "    # # For sampling posterior dynamics\n",
    "    rhok_dyn = numpyro.sample('rhok_dyn', dist.Normal(ode_solution[0,:], sig1))\n",
    "    rhon_dyn = numpyro.sample('rhon_dyn', dist.Normal(ode_solution[1,:], sig2))\n",
    "    rhom_dyn = numpyro.sample('rhom_dyn', dist.Normal(ode_solution[2,:], sig3))\n",
    "    ta_dyn = numpyro.sample('ta_dyn', dist.Normal(ode_solution[3,:], sig4))\n",
    "\n",
    "    \n"
   ]
  },
  {
   "cell_type": "code",
   "execution_count": 43,
   "metadata": {},
   "outputs": [],
   "source": [
    "# # First let's try mcmc\n",
    "# mcmc = MCMC(\n",
    "#     NUTS(model, dense_mass=True),\n",
    "#     num_warmup=100,\n",
    "#     num_samples=100,\n",
    "#     num_chains=1,\n",
    "#     progress_bar=True\n",
    "# )\n",
    "# mcmc.run(PRNGKey(1),data1=dat_rhok[:,2], data2=dat_neut[:,2], data3=dat_mac[:,2], data4=dat_ta[:,2])\n",
    "# mcmc.print_summary()"
   ]
  },
  {
   "cell_type": "code",
   "execution_count": 44,
   "metadata": {},
   "outputs": [],
   "source": [
    "# rhok_pred = Predictive(model, mcmc.get_samples())(PRNGKey(2), )[\"rhok_dyn\"]\n",
    "\n",
    "# rhok_pred.shape\n",
    "# mu = jnp.mean(rhok_pred, 0)\n",
    "# pi = jnp.percentile(rhok_pred, jnp.array([10, 90]), 0)\n",
    "\n",
    "# plt.plot(timel[id_rhon],mu)\n",
    "# plt.fill_between(timel[id_rhon],pi[0,:],pi[1,:],alpha = 0.1 )"
   ]
  },
  {
   "cell_type": "code",
   "execution_count": 54,
   "metadata": {},
   "outputs": [
    {
     "name": "stderr",
     "output_type": "stream",
     "text": [
      "100%|██████████| 10000/10000 [2:19:13<00:00,  1.20it/s, init loss: 335188.3438, avg. loss [9501-10000]: 1040.5087]\n"
     ]
    }
   ],
   "source": [
    "auto_guide = numpyro.infer.autoguide.AutoMultivariateNormal(model)\n",
    "adam = numpyro.optim.Adam(step_size=0.005)\n",
    "elbo = numpyro.infer.Trace_ELBO(num_particles=50)\n",
    "svi = numpyro.infer.SVI(model, auto_guide, adam, elbo)\n",
    "svi_result = svi.run(jax.random.PRNGKey(2),10000, data1=dat_rhok[:,2], data2=dat_neut[:,2], data3=dat_mac[:,2], data4=dat_ta[:,2])"
   ]
  },
  {
   "cell_type": "code",
   "execution_count": 55,
   "metadata": {},
   "outputs": [],
   "source": [
    "# Posterior distributions of model parameters\n",
    "params = svi_result.params\n",
    "predictive_guide = Predictive(auto_guide, params=params, num_samples=5000)\n",
    "samples = predictive_guide(PRNGKey(3), data1= None, data2= None, data3= None, data4= None)"
   ]
  },
  {
   "cell_type": "code",
   "execution_count": 49,
   "metadata": {},
   "outputs": [
    {
     "data": {
      "text/plain": [
       "{'auto_loc': DeviceArray([-2.491814  , -2.6229863 ,  0.445559  , ...,  1.8010931 ,\n",
       "               0.68308204,  0.49887046], dtype=float32),\n",
       " 'auto_scale_tril': DeviceArray([[ 0.09590477,  0.        ,  0.        , ...,  0.        ,\n",
       "                0.        ,  0.        ],\n",
       "              [ 0.00185583,  0.09067895,  0.        , ...,  0.        ,\n",
       "                0.        ,  0.        ],\n",
       "              [ 0.00244561, -0.0073376 ,  0.10331225, ...,  0.        ,\n",
       "                0.        ,  0.        ],\n",
       "              ...,\n",
       "              [ 0.01335146, -0.00466457, -0.00185499, ...,  0.481732  ,\n",
       "                0.        ,  0.        ],\n",
       "              [-0.00192441,  0.02396565,  0.00087449, ...,  0.03647821,\n",
       "                0.40321985,  0.        ],\n",
       "              [-0.0077048 ,  0.02331414,  0.00366556, ...,  0.03886954,\n",
       "                0.00381749,  0.39188567]], dtype=float32),\n",
       " 'sig1': DeviceArray(0.4178132, dtype=float32),\n",
       " 'sig2': DeviceArray(1.3242401, dtype=float32),\n",
       " 'sig3': DeviceArray(1.2661464, dtype=float32),\n",
       " 'sig4': DeviceArray(1.31203, dtype=float32)}"
      ]
     },
     "execution_count": 49,
     "metadata": {},
     "output_type": "execute_result"
    }
   ],
   "source": [
    "#Plotting \n",
    "# naxes = len(samples)\n",
    "\n",
    "\n",
    "# fig, axes =  plt.subplots(3,5,figsize=(15,10),sharey=True)\n",
    "# axef = axes.flatten()\n",
    "# for i,par in enumerate(samples):\n",
    "#     sns.kdeplot(samples[f\"{par}\"],ax=axef[i])\n",
    "#     axef[i].set_title(f\"{par}\")\n",
    "\n",
    "# plt.tight_layout()\n",
    "# sns.kdeplot(samples[\"sig1\"])\n",
    "\n",
    "# svi_result.params"
   ]
  },
  {
   "cell_type": "code",
   "execution_count": 16,
   "metadata": {},
   "outputs": [],
   "source": [
    "# rhoks = samples[\"y_rhon\"]\n",
    "# rhok_mu = jnp.mean(rhoks,axis=0)\n",
    "# rhok_pi = jnp.percentile(rhoks, jnp.array([5, 95]), axis=0)\n",
    "# plt.plot(timel[id_rhon],rhok_mu,color='r')\n",
    "# plt.fill_between(timel[id_rhon],rhok_pi[0,:],rhok_pi[1,:],alpha=0.4)\n",
    "# # plt.scatter(timel[id_rhok],dat[0])\n",
    "# # plt.fill_between(timel[id_rhok],rhok_pi[0],rhok_pi[1])"
   ]
  },
  {
   "cell_type": "code",
   "execution_count": 57,
   "metadata": {},
   "outputs": [],
   "source": [
    "# Posterior predictive dynamics\n",
    "predictive = Predictive(model, num_samples=2000)\n",
    "svi_samples = predictive(PRNGKey(5),data1= None, data2= None, data3= None, data4= None)"
   ]
  },
  {
   "cell_type": "code",
   "execution_count": 63,
   "metadata": {},
   "outputs": [
    {
     "data": {
      "text/plain": [
       "<matplotlib.collections.PathCollection at 0x166175b70>"
      ]
     },
     "execution_count": 63,
     "metadata": {},
     "output_type": "execute_result"
    },
    {
     "data": {
      "image/png": "[encoded data removed]",
      "text/plain": [
       "<Figure size 432x288 with 1 Axes>"
      ]
     },
     "metadata": {
      "needs_background": "light"
     },
     "output_type": "display_data"
    }
   ],
   "source": [
    "rhoks = svi_samples[\"y_rhon\"]\n",
    "rhok_mu = jnp.mean(rhoks,axis=0)\n",
    "rhok_pi = jnp.percentile(rhoks, jnp.array([5, 95]), axis=0)\n",
    "plt.plot(timel[id_rhon],rhok_mu,color='r')\n",
    "plt.fill_between(timel[id_rhon],rhok_pi[0,:],rhok_pi[1,:],alpha=0.4)\n",
    "plt.scatter(timel[id_rhon],dat[1])\n",
    "# plt.ylim(0,1)\n",
    "# plt.fill_between(timel[id_rhok],rhok_pi[0],rhok_pi[1])"
   ]
  },
  {
   "cell_type": "code",
   "execution_count": 11,
   "metadata": {},
   "outputs": [],
   "source": [
    "# sol = svi_samples[\"sol\"]\n",
    "# sol_mu = jnp.mean(sol,axis=0)\n",
    "# sol_pi = jnp.percentile(sol,jnp.array([5, 95]),axis=0)\n",
    "# plt.plot(timel, sol_mu[2,:])\n",
    "# plt.fill_between(timel, sol_pi[0,2,:],sol_pi[1,2,:],color='r',alpha=0.5)\n",
    "# plt.scatter(timel[id_rhom],dat[2])"
   ]
  },
  {
   "cell_type": "code",
   "execution_count": 59,
   "metadata": {},
   "outputs": [
    {
     "data": {
      "image/png": "[encoded data removed]",
      "text/plain": [
       "<Figure size 432x288 with 12 Axes>"
      ]
     },
     "metadata": {
      "needs_background": "light"
     },
     "output_type": "display_data"
    }
   ],
   "source": [
    "vals = samples[\"v0\"]\n",
    "naxes = vals.shape[1]\n",
    "fi, axes = plt.subplots(4,3)\n",
    "axef = axes.flatten()\n",
    "for i in range(naxes):\n",
    "    sns.kdeplot(vals[:,i],ax=axef[i])\n",
    "    # axef[i].set_title(f\"{par}\")\n",
    "\n",
    "plt.tight_layout()"
   ]
  },
  {
   "cell_type": "code",
   "execution_count": 36,
   "metadata": {},
   "outputs": [
    {
     "data": {
      "text/plain": [
       "<matplotlib.collections.PathCollection at 0x1502e0910>"
      ]
     },
     "execution_count": 36,
     "metadata": {},
     "output_type": "execute_result"
    },
    {
     "data": {
      "image/png": "[encoded data removed]",
      "text/plain": [
       "<Figure size 432x288 with 1 Axes>"
      ]
     },
     "metadata": {
      "needs_background": "light"
     },
     "output_type": "display_data"
    }
   ],
   "source": [
    "vals = svi_samples[\"sol\"][:,1,:]\n",
    "mu = jnp.mean(vals,axis=0)\n",
    "pi = jnp.percentile(vals,jnp.array([5,95]),axis=0)\n",
    "plt.plot(timel,mu)\n",
    "plt.fill_between(timel,pi[0,:],pi[1,:])\n",
    "\n",
    "plt.scatter(timel[id_rhon],dat[1])"
   ]
  },
  {
   "cell_type": "code",
   "execution_count": 101,
   "metadata": {},
   "outputs": [
    {
     "data": {
      "text/plain": [
       "DeviceArray([[0.11579201, 0.11706607, 0.11834919, ..., 0.9792757 ,\n",
       "              0.97949   , 0.9797014 ],\n",
       "             [0.11687702, 0.11815626, 0.11944417, ..., 0.9793822 ,\n",
       "              0.97959524, 0.9798055 ],\n",
       "             [0.11756322, 0.11886029, 0.12016564, ..., 0.97943795,\n",
       "              0.97965   , 0.97985846],\n",
       "             ...,\n",
       "             [0.11533131, 0.11659008, 0.11786012, ..., 0.97920454,\n",
       "              0.9794196 , 0.97963184],\n",
       "             [0.11528987, 0.11655586, 0.11783105, ..., 0.97922915,\n",
       "              0.9794437 , 0.97965544],\n",
       "             [0.11642116, 0.1177007 , 0.11898994, ..., 0.9793029 ,\n",
       "              0.97951686, 0.97972804]], dtype=float32)"
      ]
     },
     "execution_count": 101,
     "metadata": {},
     "output_type": "execute_result"
    }
   ],
   "source": [
    "vals"
   ]
  },
  {
   "cell_type": "code",
   "execution_count": 70,
   "metadata": {},
   "outputs": [
    {
     "data": {
      "text/plain": [
       "DeviceArray([ 0.15148948,  0.15250196,  0.17354015,  0.17564796,\n",
       "              0.20405784,  0.2092152 ,  0.20377186,  0.25081238,\n",
       "              0.29986876,  0.31215438,  0.36322525, 13.22889   ,\n",
       "              0.4545787 ,  0.4492433 ,  0.7061888 ,  0.60464466,\n",
       "              0.81964374,  0.712455  ,  0.8007176 ,  0.95748127,\n",
       "              3.3300772 ,  1.122251  ,  0.98454446,  1.0706387 ],            dtype=float32)"
      ]
     },
     "execution_count": 70,
     "metadata": {},
     "output_type": "execute_result"
    }
   ],
   "source": [
    "rhok_mu"
   ]
  },
  {
   "cell_type": "code",
   "execution_count": null,
   "metadata": {},
   "outputs": [],
   "source": []
  }
 ],
 "metadata": {
  "kernelspec": {
   "display_name": "Python 3.10.5 ('PUNumpyro')",
   "language": "python",
   "name": "python3"
  },
  "language_info": {
   "codemirror_mode": {
    "name": "ipython",
    "version": 3
   },
   "file_extension": ".py",
   "mimetype": "text/x-python",
   "name": "python",
   "nbconvert_exporter": "python",
   "pygments_lexer": "ipython3",
   "version": "3.10.5"
  },
  "orig_nbformat": 4,
  "vscode": {
   "interpreter": {
    "hash": "a38760dc2ac2bc3f7fb50dfe9045ebd45fd613e8bdd07b92151a49eee8b5231a"
   }
  }
 },
 "nbformat": 4,
 "nbformat_minor": 2
}
