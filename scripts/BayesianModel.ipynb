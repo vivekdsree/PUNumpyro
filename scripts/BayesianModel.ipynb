{
 "cells": [
  {
   "cell_type": "code",
   "execution_count": 16,
   "metadata": {},
   "outputs": [
    {
     "name": "stdout",
     "output_type": "stream",
     "text": [
      "The autoreload extension is already loaded. To reload it, use:\n",
      "  %reload_ext autoreload\n"
     ]
    }
   ],
   "source": [
    "import numpy as np\n",
    "import matplotlib\n",
    "import matplotlib.pyplot as plt\n",
    "\n",
    "import jax\n",
    "from jax.experimental.ode import odeint\n",
    "import jax.numpy as jnp\n",
    "from jax.random import PRNGKey\n",
    "from jax import grad, jit, vmap\n",
    "\n",
    "import numpyro\n",
    "import numpyro.distributions as dist\n",
    "from numpyro.infer import MCMC, NUTS, Predictive, SVI, Trace_ELBO, init_to_value\n",
    "\n",
    "from pu.pu_dynamics import *\n",
    "from pu.load_data import *\n",
    "\n",
    "from functools import partial\n",
    "import seaborn as sns\n",
    "\n",
    "import dill\n",
    "\n",
    "%load_ext autoreload\n",
    "%autoreload 2"
   ]
  },
  {
   "cell_type": "code",
   "execution_count": 17,
   "metadata": {},
   "outputs": [],
   "source": [
    "#Let's load scaled versions of all the data that we need\n",
    "data_path = \"../data/\" #Location where all data is stored\n",
    "\n",
    "rhokl = [1,2,3]\n",
    "macl = [1,2,3,4,5,6]\n",
    "neutl = [1,2,3,4,5,6]\n",
    "kcl = [1,2,3,4,5]\n",
    "tal = [1,2,3]\n",
    "tbl = [1,2,3,4,5,6]\n",
    "\n",
    "dat_mac = load_file(data_path, \"Macro\", macl, 30)\n",
    "dat_neut = load_file(data_path, \"Neutro\", neutl, 40)\n",
    "dat_kc = load_file(data_path, \"MCP\", kcl, 1)\n",
    "dat_rhok = load_file(data_path, \"Keratinocyte\", rhokl, 1)\n",
    "dat_rhok = np.array(dat_rhok)\n",
    "dat_rhok[:,0] = dat_rhok[:,0] -1\n",
    "dat_rhok = jnp.array(dat_rhok)\n",
    "dat_ta=load_file(data_path, \"Ta\", tal, 40)\n",
    "dat_tb = load_file(data_path, \"Tb\", tbl, 15)\n",
    "\n",
    "\n",
    "dat_mac = add_end_data(dat_mac, macl, 20, 1.0)\n",
    "dat_neut = add_end_data(dat_neut, neutl, 20, 1.0)\n",
    "dat_ta = add_end_data(dat_ta, tal, 20, 1.0)\n",
    "dat_tb = add_end_data(dat_tb, tbl, 20, 1.0)\n",
    "dat_rhok = add_end_data(dat_rhok, rhokl, 20, 1.0)\n",
    "dat_kc = add_end_data(dat_kc, kcl, 20, 0.0)\n",
    "\n",
    "\n",
    "timel = jnp.linspace(0,480,480)\n",
    "\n",
    "id_rhok = timel.searchsorted(dat_rhok[:,0]*24)\n",
    "id_rhon = timel.searchsorted(dat_neut[:,0]*24)\n",
    "id_rhom = timel.searchsorted(dat_mac[:,0]*24)\n",
    "id_ta   = timel.searchsorted(dat_ta[:,0]*24)\n",
    "\n",
    "ids = (id_rhok, id_rhon, id_rhom, id_ta)        #Tuple of all observed time indices\n",
    "dat = (dat_rhok, dat_neut, dat_mac, dat_ta)     #Tuple of all observed data points"
   ]
  },
  {
   "cell_type": "code",
   "execution_count": 18,
   "metadata": {},
   "outputs": [],
   "source": [
    "def model(id=ids, data1 =None, data2=None, data3=None, data4=None):\n",
    "    \"\"\"\n",
    "    :id tuple(jnp.ndarray)  : Observed time indices of keratinocytes, neutrophils, macrophages and TNFa\n",
    "    :datas (jnp.ndarray): Observed data points of keratinocytes, neutrophils, macrophages and TNFa\n",
    "    \"\"\"\n",
    "    # v0 = numpyro.deterministic(\"v0\",jnp.array([0.18,10.0,5.0,2.0,1.0,10.0,5.0,2.0,0.15,0.2,1.0,1.0]))\n",
    "    v0 = numpyro.sample(\n",
    "        \"v0\",\n",
    "        dist.Uniform(\n",
    "            low =jnp.array([0.1, 5.0,  2.0, 1.0, 0.99, 5.0,  4.0, 1.0, 0.149, 0.199, 0.99, 0.99]),\n",
    "            high=jnp.array([0.2, 15.0, 8.0, 8.0, 1.01, 15.0, 8.0, 4.0, 0.151, 0.201, 1.01, 1.01]),\n",
    "        ),\n",
    "    )\n",
    "    \n",
    "    lkTa =numpyro.sample(\"lkTa\", dist.Uniform(low=0.4, high=0.65))\n",
    "    lkI1b =numpyro.deterministic(\"lkI1b\", 0.07)\n",
    "    lkR =numpyro.deterministic(\"lkR\", 0.07)\n",
    "    lkTb =numpyro.deterministic(\"lkTb\", 0.2)\n",
    "\n",
    "    lnKC =numpyro.deterministic(\"lnKC\", 2.0)\n",
    "    lnDa =numpyro.sample(\"lnDa\", dist.Uniform(low=1.8, high=2.1))\n",
    "\n",
    "    Tahf =numpyro.sample(\"Tahf\", dist.Uniform(low=6.0, high=16.0))\n",
    "    lm1Ta =numpyro.sample(\"lm1Ta\", dist.Uniform(low=.6, high=1.25))\n",
    "    I1bhfm1 =numpyro.sample(\"I1bhfm1\", dist.Uniform(low=10.0, high=12.0))\n",
    "    lm1I1b =numpyro.sample(\"lm1I1b\", dist.Uniform(low=0.75, high=1.6))\n",
    "    lmKcm1 =numpyro.deterministic(\"lmKcm1\", 1.0)\n",
    "    Tbhfm1 =numpyro.sample(\"Tbhfm1\", dist.Uniform(low=7.0, high=8.5))\n",
    "    lm1Tb =numpyro.deterministic(\"lm1Tb\", 0.1)\n",
    "    I1bhfm2 =numpyro.sample(\"I1bhfm2\", dist.Uniform(low=7.0, high=8.0))\n",
    "    lm2I1b =numpyro.sample(\"lm2I1b\", dist.Uniform(low=1.1, high=1.2))\n",
    "    Tbhfm2 =numpyro.deterministic(\"Tbhfm2\", 10.0)\n",
    "    lm2Tb =numpyro.deterministic(\"lm2Tb\", 0.2)\n",
    "    alpha_m1n =numpyro.deterministic(\"alpha_m1n\", 0.0001)\n",
    "    alpha_m1m2 =numpyro.deterministic(\"alpha_m1m2\", 0.0001)\n",
    "    \n",
    "    # sig1 =numpyro.sample(\"sig1\", dist.TruncatedNormal(0.1, 0.01, low =0 ,high=1.0))\n",
    "    # sig2 =numpyro.sample(\"sig2\", dist.TruncatedNormal(3.0, 1.0, low =0 ,high=10.0))\n",
    "    # sig3 =numpyro.sample(\"sig3\", dist.TruncatedNormal(3.0, 1.0, low =0 ,high=10.0))\n",
    "    # sig4 =numpyro.sample(\"sig4\", dist.TruncatedNormal(3.0, 1.0, low =0 ,high=10.0))\n",
    "\n",
    "    sig1 =numpyro.sample(\"sig1\", dist.HalfCauchy(scale=0.1))\n",
    "    sig2 =numpyro.sample(\"sig2\", dist.HalfCauchy(scale=0.5))\n",
    "    sig3 =numpyro.sample(\"sig3\", dist.HalfCauchy(scale=0.5))\n",
    "    sig4 =numpyro.sample(\"sig4\", dist.HalfCauchy(scale=0.5))\n",
    "\n",
    "    par = jnp.array([lkTa, lkI1b,lkR, lkTb,lnKC, lnDa,Tahf, lm1Ta, I1bhfm1,lm1I1b,\n",
    "                        lmKcm1, Tbhfm1, lm1Tb,I1bhfm2,lm2I1b, Tbhfm2,lm2Tb,alpha_m1n,\n",
    "                        alpha_m1m2])\n",
    "    times = jnp.linspace(0,480,480)\n",
    "\n",
    "    ode_solution = acute_solver(par,times,v0) # acute_solver returns ([rhok_sol,rhon_sol,rhom_sol,ta_sol])\n",
    "    \n",
    "    sol = numpyro.deterministic(\"sol\",ode_solution)\n",
    "\n",
    "    y_rhok = numpyro.sample('y_rhok', dist.Normal(ode_solution[0, ids[0]], sig1), obs=data1)\n",
    "    y_rhon = numpyro.sample('y_rhon', dist.Normal(ode_solution[1, ids[1]], sig2), obs=data2)\n",
    "    y_rhom = numpyro.sample('y_rhom', dist.Normal(ode_solution[2, ids[2]], sig3), obs=data3)\n",
    "    y_ta   = numpyro.sample('y_ta', dist.Normal(ode_solution[3, ids[3]], sig4), obs=data4)\n",
    "\n"
   ]
  },
  {
   "cell_type": "code",
   "execution_count": 19,
   "metadata": {},
   "outputs": [],
   "source": [
    "# # If you want to use MCMC (Caution Extremely Slow!!)\n",
    "# mcmc = MCMC(\n",
    "#     NUTS(model, dense_mass=True),\n",
    "#     num_warmup=100,\n",
    "#     num_samples=100,\n",
    "#     num_chains=1,\n",
    "#     progress_bar=True\n",
    "# )\n",
    "# mcmc.run(PRNGKey(1),data1=dat_rhok[:,2], data2=dat_neut[:,2], data3=dat_mac[:,2], data4=dat_ta[:,2])\n",
    "# mcmc.print_summary()\n",
    "\n",
    "# rhok_pred = Predictive(model, mcmc.get_samples())(PRNGKey(2), )[\"rhok_dyn\"]\n",
    "# rhok_pred.shape\n",
    "# mu = jnp.mean(rhok_pred, 0)\n",
    "# pi = jnp.percentile(rhok_pred, jnp.array([10, 90]), 0)\n",
    "# plt.plot(timel[id_rhon],mu)\n",
    "# plt.fill_between(timel[id_rhon],pi[0,:],pi[1,:],alpha = 0.1 )"
   ]
  },
  {
   "cell_type": "code",
   "execution_count": 20,
   "metadata": {},
   "outputs": [
    {
     "name": "stderr",
     "output_type": "stream",
     "text": [
      "  0%|          | 0/10000 [00:00<?, ?it/s]"
     ]
    }
   ],
   "source": [
    "#Construct the guide run SVI\n",
    "auto_guide = numpyro.infer.autoguide.AutoDAIS(model)\n",
    "\n",
    "adam = numpyro.optim.Adam(step_size=0.05)\n",
    "elbo = numpyro.infer.Trace_ELBO(num_particles=1)\n",
    "svi = numpyro.infer.SVI(model, auto_guide, adam, elbo)\n",
    "svi_result = svi.run(jax.random.PRNGKey(2),10000, data1=dat_rhok[:,2], data2=dat_neut[:,2], data3=dat_mac[:,2], data4=dat_ta[:,2])"
   ]
  },
  {
   "cell_type": "code",
   "execution_count": null,
   "metadata": {},
   "outputs": [],
   "source": [
    "# Posterior distributions of model parameters from the guide\n",
    "params = svi_result.params\n",
    "predictive_guide = Predictive(auto_guide, params=params, num_samples=5000)\n",
    "posterior_samples = predictive_guide(PRNGKey(3), data1= None, data2= None, data3= None, data4= None)"
   ]
  },
  {
   "cell_type": "code",
   "execution_count": null,
   "metadata": {},
   "outputs": [],
   "source": [
    "# Posterior predictive samples\n",
    "predictive = Predictive(model, posterior_samples=posterior_samples)\n",
    "svi_samples = predictive(PRNGKey(5),data1= None, data2= None, data3= None, data4= None)"
   ]
  },
  {
   "cell_type": "code",
   "execution_count": null,
   "metadata": {},
   "outputs": [],
   "source": [
    "#Save the data for using in post processing\n",
    "output_dict = {}\n",
    "output_dict['dat']=dat\n",
    "output_dict['ids']=ids\n",
    "output_dict['model']=model\n",
    "output_dict['auto_guide']=auto_guide\n",
    "output_dict['params']=params\n",
    "output_dict['posterior_samples']=posterior_samples\n",
    "output_dict['svi_samples']=svi_samples\n",
    "with open(data_path+'SVIdata.pkl', 'wb') as handle:\n",
    "    dill.dump(output_dict, handle)\n"
   ]
  },
  {
   "cell_type": "code",
   "execution_count": null,
   "metadata": {},
   "outputs": [],
   "source": []
  }
 ],
 "metadata": {
  "kernelspec": {
   "display_name": "Python 3.10.5 ('PUNumpyro')",
   "language": "python",
   "name": "python3"
  },
  "language_info": {
   "codemirror_mode": {
    "name": "ipython",
    "version": 3
   },
   "file_extension": ".py",
   "mimetype": "text/x-python",
   "name": "python",
   "nbconvert_exporter": "python",
   "pygments_lexer": "ipython3",
   "version": "3.10.5"
  },
  "orig_nbformat": 4,
  "vscode": {
   "interpreter": {
    "hash": "a38760dc2ac2bc3f7fb50dfe9045ebd45fd613e8bdd07b92151a49eee8b5231a"
   }
  }
 },
 "nbformat": 4,
 "nbformat_minor": 2
}
